{
 "cells": [
  {
   "cell_type": "code",
   "execution_count": null,
   "id": "02296c36-b04e-4084-8bcd-534fa8e16abb",
   "metadata": {},
   "outputs": [],
   "source": [
    "                                      Лабораторная работа №2\n",
    "                            Выполнил студент группы БСТ2201 Сиау.Эрнест"
   ]
  },
  {
   "cell_type": "code",
   "execution_count": null,
   "id": "73439cd6-5b10-45af-afbe-0ac339c62f97",
   "metadata": {},
   "outputs": [],
   "source": [
    "Реализовать следующие структуры данных:\n",
    "\n",
    "● Стек (stack):\n",
    "Операции для стека: инициализация, проверка на пустоту, добавление нового элемента в начало, извлечение элемента из начала;\n",
    "\n",
    "● Дек (двусторонняя очередь, deque):\n",
    "Операции для дека: инициализация, проверка на пустоту, добавление нового элемента в начало, добавление нового элемента в конец, извлечение элемента из начала, извлечение элемента из конца.\n",
    "\n",
    "Разработать программу обработки данных, содержащихся в заранее подготовленном txt-файле, в соответствии с заданиями, применив указанную в задании структуру данных. Результат работы программы вывести на экран и сохранить в отдельном txt-файле."
   ]
  },
  {
   "cell_type": "code",
   "execution_count": null,
   "id": "6f86b718-d90b-4cad-83e1-64e9a9c5c36c",
   "metadata": {},
   "outputs": [],
   "source": [
    "Создадим два класса для работы"
   ]
  },
  {
   "cell_type": "code",
   "execution_count": 33,
   "id": "b594bb12-4fd7-449b-8865-791d302641aa",
   "metadata": {},
   "outputs": [],
   "source": [
    "# класс для работы со Stack\n",
    "class Stack:\n",
    "    # инициализация\n",
    "    def __init__(self):\n",
    "        self.items = []\n",
    "    # проверка на пустоту\n",
    "    def isEmpty(self):\n",
    "        return self.items == []\n",
    "    # добавить элемент\n",
    "    def push(self, item):\n",
    "        self.items.append(item)\n",
    "    # удалить элемент\n",
    "    def pop(self):\n",
    "        return self.items.pop()\n",
    "    # развернуть \n",
    "    def reverse(self):\n",
    "        self.items.reverse()\n",
    "# класс для работы с Deque\n",
    "class Deque:\n",
    "    # инициализация\n",
    "    def __init__(self):\n",
    "        self.items = []\n",
    "    # проверка на пустоту\n",
    "    def isEmpty(self):\n",
    "        return self.items == []\n",
    "    # добавить вправо\n",
    "    def append(self, item):\n",
    "        self.items.append(item)\n",
    "    # добавить влево\n",
    "    def appendleft(self, item): \n",
    "        self.items.insert(0, item)\n",
    "    # удалить справа\n",
    "    def pop(self):\n",
    "        return self.items.pop()\n",
    "     # удалить слева\n",
    "    def popleft(self):\n",
    "        return self.items.pop(0)\n",
    "    # вернуть элемент без удаления\n",
    "    def peek(self):\n",
    "        return self.items[-1]\n",
    "     # развернуть \n",
    "    def reverse(self):\n",
    "        self.items.reverse()\n",
    "    # получить длину\n",
    "    def __len__(self):\n",
    "        return len(self.items)"
   ]
  },
  {
   "cell_type": "code",
   "execution_count": 9,
   "id": "6729e0e8-7b12-44fd-9604-02fa23c4287c",
   "metadata": {},
   "outputs": [],
   "source": [
    "# Функция для чтения текста из файла\n",
    "def read_file(filename):\n",
    "    with open(filename, 'r', encoding = \"utf-8\") as file:\n",
    "        return [row.strip() for row in file]\n",
    "\n",
    "# Функция для загрузки в файла\n",
    "def save_to_file(filename, result):\n",
    "    with open(filename, 'w', encoding = \"utf-8\") as f:\n",
    "        if isinstance(result, str):\n",
    "            f.write(result + \"\\n\")\n",
    "        else:\n",
    "            for item in result:\n",
    "                f.write(str(item) + \"\\n\")"
   ]
  },
  {
   "cell_type": "code",
   "execution_count": null,
   "id": "3ab9f6be-d21c-4544-9183-fdcd1d9d528e",
   "metadata": {},
   "outputs": [],
   "source": [
    "                                           Задание №1\n",
    "Отсортировать строки файла, содержащие названия книг, в алфавитном порядке с использованием двух деков."
   ]
  },
  {
   "cell_type": "code",
   "execution_count": 11,
   "id": "d76c19a5-515a-4210-9e1e-6bad4e5d78b3",
   "metadata": {},
   "outputs": [
    {
     "name": "stdout",
     "output_type": "stream",
     "text": [
      "Джон Александер\n",
      "Петер Блэксон\n",
      "Сиау.Эрнест\n"
     ]
    }
   ],
   "source": [
    "# функция для сортировки названий книг\n",
    "def sort_books(input_file_path):\n",
    "  deq, sort_deq = [Deque() for _ in range(2)]\n",
    "  [deq.append(book.strip()) for book in books]\n",
    "  while not deq.isEmpty():\n",
    "    element = deq.pop()\n",
    "    # пока sort_deq не пустой и element меньше чем последний в sort_deq\n",
    "    while not sort_deq.isEmpty() and element < sort_deq.peek():\n",
    "      # добавляем в deq последний элемент sort_deq\n",
    "      deq.append(sort_deq.pop())\n",
    "    sort_deq.append(element)\n",
    "  # вызов функции сохранения в файл\n",
    "  save_to_file(\"test1.txt\", sort_deq.items)\n",
    "  while not sort_deq.isEmpty():\n",
    "    print(sort_deq.popleft())\n",
    "# вызов функции чтения из файл\n",
    "books = read_file(\"task1.txt\")\n",
    "sort_books(books)"
   ]
  },
  {
   "cell_type": "code",
   "execution_count": null,
   "id": "c9015ba4-7b9a-4178-9850-430a91795fc5",
   "metadata": {},
   "outputs": [],
   "source": [
    "                                    Задание №2                                       \n",
    "Дек содержит последовательность символов для шифровки сообщений. \n",
    "Дан текстовый файл, содержащий зашифрованное сообщение. \n",
    "Пользуясь деком, расшифровать текст. \n",
    "Известно, что при шифровке каждый символ сообщения заменялся следующим за ним в деке по часовой стрелке через один."
   ]
  },
  {
   "cell_type": "code",
   "execution_count": 35,
   "id": "46ad4222-f656-4164-9080-20d657e482d9",
   "metadata": {},
   "outputs": [
    {
     "data": {
      "text/plain": [
       "'код от домофона - 47392!'"
      ]
     },
     "execution_count": 35,
     "metadata": {},
     "output_type": "execute_result"
    }
   ],
   "source": [
    "# функция для расшифровки текста\n",
    "def decode_text(input_file_path):\n",
    "  deq = Deque()\n",
    "  [deq.append(letter) for letter in 'абвгдеёжзийклмнопрстуфхцчшщъыьэюя']\n",
    "  decrypted_text = \"\"\n",
    "  # функция для расшифровки каждого символа\n",
    "  def decryptText(variable):\n",
    "    for letter in range(len(deq)):\n",
    "      symbol = deq.popleft()\n",
    "      # если наш извлеченный символ из дека == сравниваемому из текста\n",
    "      if symbol == variable:\n",
    "        # добавляем наш извлеченный символ из дека в конец дека\n",
    "        deq.append(symbol)\n",
    "        # извлечем след. символ после symbol\n",
    "        next_symbol = deq.popleft()\n",
    "        # посместим его в конец списка\n",
    "        deq.append(next_symbol)\n",
    "        # вернем последний извлченный символ для добавления в decrypted_text\n",
    "        return next_symbol\n",
    "      deq.append(symbol)\n",
    "\n",
    "  for string in decode:\n",
    "    for symbol in string.lower():\n",
    "      decode_symbol = decryptText(symbol)\n",
    "      # проверяет, произошло ли шифрование\n",
    "      if decode_symbol:\n",
    "          decrypted_text += decode_symbol\n",
    "      else:\n",
    "          decrypted_text += symbol\n",
    "  # вызов функции сохранения в файл\n",
    "  save_to_file(\"test2.txt\", decrypted_text)\n",
    "  return decrypted_text\n",
    "# вызов функции чтения из файл\n",
    "decode = read_file(\"task2.txt\")\n",
    "decode_text(decode)"
   ]
  },
  {
   "cell_type": "code",
   "execution_count": null,
   "id": "baaa8c26-f057-4741-a2f1-f11c212a645a",
   "metadata": {},
   "outputs": [],
   "source": [
    "                                          Задание №3\n",
    "Даны три стержня и n дисков различного размера. \n",
    "Диски можно надевать на стержни, образуя из них башни.\n",
    "Перенести n дисков со стержня А на стержень С, сохранив их первоначальный порядок. \n",
    "При переносе дисков необходимо соблюдать следующие правила:\n",
    "на каждом шаге со стержня на стержень переносить только один диск;\n",
    "диск нельзя помещать на диск меньшего размера;\n",
    "для промежуточного хранения можно использовать стержень В. \n",
    "Реализовать алгоритм, используя три стека вместо стержней А, В, С. \n",
    "Информация о дисках хранится в исходном файле."
   ]
  },
  {
   "cell_type": "code",
   "execution_count": 20,
   "id": "116c62c7-b144-45fe-9dda-daa506632bee",
   "metadata": {},
   "outputs": [
    {
     "name": "stdout",
     "output_type": "stream",
     "text": [
      "Состояние стержня A: [4, 3, 2, 1]\n",
      "Move disk 1 from rod A to rod B\n",
      "Move disk 2 from rod A to rod C\n",
      "Move disk 1 from rod B to rod C\n",
      "Move disk 3 from rod A to rod B\n",
      "Move disk 1 from rod C to rod A\n",
      "Move disk 2 from rod C to rod B\n",
      "Move disk 1 from rod A to rod B\n",
      "Move disk 4 from rod A to rod C\n",
      "Move disk 1 from rod B to rod C\n",
      "Move disk 2 from rod B to rod A\n",
      "Move disk 1 from rod C to rod A\n",
      "Move disk 3 from rod B to rod C\n",
      "Move disk 1 from rod A to rod B\n",
      "Move disk 2 from rod A to rod C\n",
      "Move disk 1 from rod B to rod C\n",
      "Состояние стержня C: [4, 3, 2, 1]\n"
     ]
    }
   ],
   "source": [
    "\n",
    "def hanoi_tower(input_file_path):\n",
    "  A, C, B = [Stack() for _ in range(3)]\n",
    "  # положим диски в A начиная с n (большего)\n",
    "  [A.push(disk) for disk in range(n, 0, -1)]\n",
    "  # динамическое добавление атрибута\n",
    "  A.name,C.name,B.name = \"A\", \"C\", \"B\"\n",
    "  print(f'Состояние стержня A: {A.items}')\n",
    "  # функция для движения дисков (решение рекурсией)\n",
    "  def move_disks(n, start, end, middle):\n",
    "    if n == 1:\n",
    "      end.push(start.pop())\n",
    "      print(f'Move disk 1 from rod {start.name} to rod {end.name}')\n",
    "      return\n",
    "    else:\n",
    "      move_disks(n-1, start, middle, end)\n",
    "      print(f'Move disk {n} from rod {start.name} to rod {end.name}')\n",
    "      end.push(start.pop())\n",
    "      move_disks(n-1, middle, end, start)\n",
    "  # вызов функции и результата\n",
    "  move_disks(n, A, C, B)\n",
    "  C.reverse()\n",
    "  save_to_file(\"test3.txt\", C.items)\n",
    "  C.reverse()\n",
    "  return print(f'Состояние стержня C: {C.items}')\n",
    "n = int(read_file(\"task3.txt\")[0])\n",
    "hanoi_tower(n)"
   ]
  },
  {
   "cell_type": "code",
   "execution_count": null,
   "id": "2718f146-69bf-4dd1-8e0f-96afe4cec30e",
   "metadata": {},
   "outputs": [],
   "source": [
    "                                    Задание №4\n",
    "Дан текстовый файл с программой на алгоритмическом языке.\n",
    "За один просмотр файла проверить баланс круглых скобок в тексте, используя стек."
   ]
  },
  {
   "cell_type": "code",
   "execution_count": 22,
   "id": "555e9fd1-6bb9-40cd-b08d-6ca1407c9e50",
   "metadata": {},
   "outputs": [
    {
     "data": {
      "text/plain": [
       "True"
      ]
     },
     "execution_count": 22,
     "metadata": {},
     "output_type": "execute_result"
    }
   ],
   "source": [
    "\n",
    "def balance_round_brackets(input_file_path):\n",
    "  balance = Stack()\n",
    "  test = [symbol for row in text for symbol in row]\n",
    "  for symbol in test:\n",
    "    if symbol == \"(\":\n",
    "      balance.push(symbol)\n",
    "    elif symbol == \")\":\n",
    "      if balance.isEmpty():\n",
    "        return False\n",
    "      balance.pop()\n",
    "  # вызов функции сохранения в файл\n",
    "  save_to_file(\"test4.txt\", str(balance.isEmpty()))\n",
    "  # вернем True/False\n",
    "  return balance.isEmpty()\n",
    "# вызов функции чтения из файл\n",
    "text = read_file(\"task4.txt\")\n",
    "balance_round_brackets(text)"
   ]
  },
  {
   "cell_type": "code",
   "execution_count": null,
   "id": "d91c0a8d-7f0e-4fba-a4d5-2bf33dc338c4",
   "metadata": {},
   "outputs": [],
   "source": [
    "                                    Задание №5\n",
    "Дан текстовый файл с программой на алгоритмическом языке. \n",
    "За один просмотр файла проверить баланс квадратных скобок в тексте, используя дек."
   ]
  },
  {
   "cell_type": "code",
   "execution_count": 23,
   "id": "b30a7759-2f5d-4868-afb4-cc64da016c7a",
   "metadata": {},
   "outputs": [
    {
     "data": {
      "text/plain": [
       "False"
      ]
     },
     "execution_count": 23,
     "metadata": {},
     "output_type": "execute_result"
    }
   ],
   "source": [
    "\n",
    "def balance_square_brackets(input_file_path):\n",
    "  balance = Deque()\n",
    "  test = [symbol for row in text for symbol in row]\n",
    "  for symbol in test:\n",
    "    if symbol == \"[\":\n",
    "      balance.append(symbol)\n",
    "    elif symbol == \"]\":\n",
    "      if balance.isEmpty():\n",
    "        return False\n",
    "      balance.pop()\n",
    "  # вызов функции сохранения в файл\n",
    "  save_to_file(\"test5.txt\", str(balance.isEmpty()))\n",
    "  # вернем True/False\n",
    "  return balance.isEmpty()\n",
    "# вызов функции чтения из файл\n",
    "text = read_file(\"task5.txt\")\n",
    "balance_square_brackets(text)"
   ]
  },
  {
   "cell_type": "code",
   "execution_count": null,
   "id": "2a5943de-1986-446e-86e9-0575610c1763",
   "metadata": {},
   "outputs": [],
   "source": [
    "                                       Задание №6\n",
    "Дан файл из символов. \n",
    "Используя стек, за один просмотр файла напечатать сначала все цифры, \n",
    "затем все буквы, и, наконец, все остальные символы, сохраняя исходный порядок в каждой группе символов."
   ]
  },
  {
   "cell_type": "code",
   "execution_count": 26,
   "id": "50f210dc-1a5d-4b01-8d99-fd700f80bcea",
   "metadata": {},
   "outputs": [
    {
     "data": {
      "text/plain": [
       "\"4738GooddayCиауЭрнестHowareyoudoing'-,.    !_@'\""
      ]
     },
     "execution_count": 26,
     "metadata": {},
     "output_type": "execute_result"
    }
   ],
   "source": [
    "\n",
    "def sort_text(input_file_path):\n",
    "  stack = Stack()\n",
    "  new_doc = \"\"\n",
    "  for word in text:\n",
    "    for symbol in word:\n",
    "      # добавление в строку чисел иначе в стек\n",
    "      if symbol.isdigit():\n",
    "        new_doc += symbol\n",
    "      else:\n",
    "        stack.push(symbol)\n",
    "    # добавление в строку букв\n",
    "    for item in stack.items:\n",
    "      if item.isalpha():\n",
    "        new_doc += item\n",
    "    # добавление в строку остальных символов\n",
    "    for item in stack.items:\n",
    "      if not item.isalpha():\n",
    "        new_doc += item\n",
    "\n",
    "  # вызов функции сохранения в файл\n",
    "  save_to_file(\"test6.txt\", new_doc)\n",
    "  return new_doc\n",
    "# вызов функции чтения из файл\n",
    "text = read_file(\"task6.txt\")\n",
    "sort_text(text)"
   ]
  },
  {
   "cell_type": "code",
   "execution_count": null,
   "id": "3a405eba-a8f2-47aa-af8f-7197a97c3187",
   "metadata": {},
   "outputs": [],
   "source": [
    "                                      Задание №7\n",
    "Дан файл из целых чисел. \n",
    "Используя дек, за один просмотр файла напечатать сначала все отрицательные числа, \n",
    "затем все положительные числа, сохраняя исходный порядок в каждой группе."
   ]
  },
  {
   "cell_type": "code",
   "execution_count": 27,
   "id": "f261fdc8-d1a4-4ece-925b-bd45eb8a28a3",
   "metadata": {},
   "outputs": [
    {
     "data": {
      "text/plain": [
       "False"
      ]
     },
     "execution_count": 27,
     "metadata": {},
     "output_type": "execute_result"
    }
   ],
   "source": [
    "\n",
    "def balance_square_brackets(input_file_path):\n",
    "  balance = Deque()\n",
    "  test = [symbol for row in text for symbol in row]\n",
    "  for symbol in test:\n",
    "    if symbol == \"[\":\n",
    "      balance.append(symbol)\n",
    "    elif symbol == \"]\":\n",
    "      if balance.isEmpty():\n",
    "        return False\n",
    "      balance.pop()\n",
    "  # вызов функции сохранения в файл\n",
    "  save_to_file(\"test5.txt\", str(balance.isEmpty()))\n",
    "  # вернем True/False\n",
    "  return balance.isEmpty()\n",
    "# вызов функции чтения из файл\n",
    "text = read_file(\"task5.txt\")\n",
    "balance_square_brackets(text)"
   ]
  },
  {
   "cell_type": "code",
   "execution_count": 30,
   "id": "0877a51c-0a08-41c2-b2fc-4a4b1d830590",
   "metadata": {},
   "outputs": [
    {
     "name": "stdout",
     "output_type": "stream",
     "text": [
      "-6\n",
      "-3\n",
      "-4\n",
      "19\n",
      "0\n",
      "12\n",
      "7\n",
      "10\n",
      "1\n",
      "79\n"
     ]
    }
   ],
   "source": [
    "def sort_digits(input_file_path):\n",
    "  deq = Deque()\n",
    "  digits = [int(number.strip()) for number in numbers]\n",
    "  [deq.append(num) for num in digits if num >= 0]\n",
    "  digits.reverse()\n",
    "  [deq.appendleft(num) for num in digits if num < 0]\n",
    "  # вызов функции сохранения в файл\n",
    "  save_to_file(\"test7.txt\", deq.items)\n",
    "  while not deq.isEmpty():\n",
    "    print(deq.popleft())\n",
    "# вызов функции чтения из файл\n",
    "numbers = read_file(\"task7.txt\")\n",
    "sort_digits(numbers)"
   ]
  },
  {
   "cell_type": "code",
   "execution_count": null,
   "id": "177c45e1-a960-4b71-9d9c-73283396f55b",
   "metadata": {},
   "outputs": [],
   "source": [
    "                                Задание №8\n",
    "Дан текстовый файл. Используя стек, сформировать новый текстовый файл, \n",
    "содержащий строки исходного файла, записанные в обратном порядке: \n",
    "первая строка становится последней, вторая – предпоследней и т.д."
   ]
  },
  {
   "cell_type": "code",
   "execution_count": 32,
   "id": "a4f7d844-6c2c-4ade-9be3-038a7529232d",
   "metadata": {},
   "outputs": [
    {
     "name": "stdout",
     "output_type": "stream",
     "text": [
      "Четвертая(4-й) фраза\n",
      "Третья(3-й) фраза\n",
      "Вторая(2-й) фраза\n",
      "Первая(1-й) фраза\n"
     ]
    }
   ],
   "source": [
    "def reverse_strings(input_file_path):\n",
    "    phrases = Stack()\n",
    "    [phrases.push(string) for string in strings]\n",
    "    phrases.reverse()\n",
    "    # вызов функции сохранения в файл\n",
    "    save_to_file(\"test8.txt\", phrases.items)\n",
    "    phrases.reverse()\n",
    "    # вывод на экран\n",
    "    while not phrases.isEmpty():\n",
    "        print(phrases.pop())\n",
    "# вызов функции чтения из файл\n",
    "strings = read_file(\"task8.txt\")\n",
    "reverse_strings(strings)"
   ]
  },
  {
   "cell_type": "code",
   "execution_count": null,
   "id": "2368f271-6029-44ec-be9d-a138c61b59a8",
   "metadata": {},
   "outputs": [],
   "source": [
    "                                       Вывод\n",
    "Разработал программы обработки данных, содержащихся в заранее подготовленном txt-файле, \n",
    "в соответствии с заданиями, применив указанную в задании структуру данных. \n",
    "Результат работы программ вывел на экран и сохранил в отдельном txt-файле."
   ]
  }
 ],
 "metadata": {
  "kernelspec": {
   "display_name": "Python 3 (ipykernel)",
   "language": "python",
   "name": "python3"
  },
  "language_info": {
   "codemirror_mode": {
    "name": "ipython",
    "version": 3
   },
   "file_extension": ".py",
   "mimetype": "text/x-python",
   "name": "python",
   "nbconvert_exporter": "python",
   "pygments_lexer": "ipython3",
   "version": "3.11.7"
  }
 },
 "nbformat": 4,
 "nbformat_minor": 5
}
