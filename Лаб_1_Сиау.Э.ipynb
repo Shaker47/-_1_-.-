{
 "cells": [
  {
   "cell_type": "code",
   "execution_count": null,
   "id": "8f5890ae-1ba7-465e-8793-939eda71f3c5",
   "metadata": {},
   "outputs": [],
   "source": [
    "                              Лабораторная работа №1\n",
    "                        Выполнил студент гр.БCТ 2201 Сиау.Э\n",
    "\n",
    "Задание №1\n",
    "\n",
    "Вызвать функцию print() и передать туда строку Hello, World!\n",
    "\n",
    "Задание №2\n",
    "\n",
    "Написать генератор случайных матриц(многомерных), который принимает опциональные параметры m, n, min_limit, max_limit, где m и n указывают размер матрицы, а min_lim и max_lim - минимальное и максимальное значение для генерируемого числа.\n",
    "\n",
    "Задание №3\n",
    "\n",
    "Реализовать методы сортировки строк (выбором, вставкой, пузырьком, Шелла, быстрая, турнирная) числовой матрицы в соответствии с заданием. Оценить время работы каждого алгоритма сортировки и сравнить его со временем стандартной функции сортировки. Испытания проводить на сгенерированных матрицах.\n",
    "\n",
    "Выполнение:\n",
    "\n"
   ]
  },
  {
   "cell_type": "code",
   "execution_count": null,
   "id": "2724fbd1-7ea7-4f5d-b57b-6c01999aec14",
   "metadata": {},
   "outputs": [],
   "source": [
    "В задании 1 нужно вызвать функцию print() и передать строку Hello World!\n",
    "\n",
    "Задание 1 представлено в 1.py"
   ]
  },
  {
   "cell_type": "code",
   "execution_count": 1,
   "id": "601a2bbf-a6ef-4579-98e1-acb667c9dc4b",
   "metadata": {},
   "outputs": [
    {
     "name": "stdout",
     "output_type": "stream",
     "text": [
      "Hello, World!\n"
     ]
    }
   ],
   "source": [
    "print(\"Hello, World!\")"
   ]
  },
  {
   "cell_type": "code",
   "execution_count": null,
   "id": "3ed611af-2e93-4ebe-94ba-79a2b27f5865",
   "metadata": {},
   "outputs": [],
   "source": [
    "В задании 2 нужно написать генератор случайных многомерных матриц (возможность ввода значений предоставляется пользователю)\n",
    "\n",
    "Задание 2 представлено в 2.py"
   ]
  },
  {
   "cell_type": "code",
   "execution_count": 3,
   "id": "c6f49462-e002-41f8-8db8-ce473988870a",
   "metadata": {},
   "outputs": [
    {
     "name": "stdout",
     "output_type": "stream",
     "text": [
      "[167, 94, 29, 157]\n",
      "[92, 102, 0, 136]\n",
      "[69, 90, 200, 95]\n",
      "[197, 40, 74, 34]\n"
     ]
    }
   ],
   "source": [
    "import random\n",
    "\n",
    "def random_matrix(m=3, n=3, min_limit=1,\n",
    "max_limit=10):\n",
    "    return [[random.randint(min_limit,\n",
    "max_limit) for _ in range(n)] for _ in\n",
    "range(m)]\n",
    "\n",
    "#Пример использования\n",
    "matrix = random_matrix(4, 4, 0, 200)\n",
    "for row in matrix:\n",
    "    print(row)"
   ]
  },
  {
   "cell_type": "code",
   "execution_count": null,
   "id": "c8c46973-732f-4dec-9305-0ff4ba94e310",
   "metadata": {},
   "outputs": [],
   "source": [
    "В задании 3 нужно реализовать методы сортировки строк матриц*\n",
    "\n",
    "Задание 3 представлено в 3.py"
   ]
  },
  {
   "cell_type": "code",
   "execution_count": null,
   "id": "1736b2e9-3957-4db2-a0ab-b95121f24f31",
   "metadata": {},
   "outputs": [],
   "source": [
    "Сортировка вставкой :\n",
    "Алгоритм сортировки вставками в Python делит список на две части и вставляет элементы на \n",
    "их правильные места во вторую часть списка, убирая их из первой.\n",
    "Если второй элемент больше первого, то он остаётся на своём месте. \n",
    "Если он меньше, то вставляется на второе место, оставив первый элемент на первом месте.\n"
   ]
  },
  {
   "cell_type": "code",
   "execution_count": 2,
   "id": "cb80cbec-cd8d-4869-9ed0-1c5dcaed4e94",
   "metadata": {},
   "outputs": [
    {
     "name": "stdout",
     "output_type": "stream",
     "text": [
      "Отсортированный массив: [5, 6, 11, 12, 13]\n"
     ]
    }
   ],
   "source": [
    "#Сортировка вставкой \n",
    "def insertion_sort(arr):\n",
    "     for i in range(1, len(arr)):\n",
    "         key = arr[i]\n",
    "         j = i - 1\n",
    "         while j >= 0 and key < arr[j]:\n",
    "             arr[j + 1] = arr[j]\n",
    "             j -= 1\n",
    "         arr[j + 1] = key\n",
    "\n",
    "             \n",
    "#Пример исползования\n",
    "arr = [12, 11, 13, 5, 6]\n",
    "insertion_sort(arr)\n",
    "print(\"Отсортированный массив:\", arr)"
   ]
  },
  {
   "cell_type": "code",
   "execution_count": null,
   "id": "dfde52fe-565a-4b5b-9ec8-293fcf9ec08b",
   "metadata": {},
   "outputs": [],
   "source": [
    "Сортировка пузырьком (обменом):это метод сортировки массивов и списков путем последовательного \n",
    "сравнения и обмена соседних элементов, \n",
    "если предшествующий оказывается больше последующего.\n"
   ]
  },
  {
   "cell_type": "code",
   "execution_count": 4,
   "id": "bc03ac1b-d694-468c-a704-05ab368bad93",
   "metadata": {},
   "outputs": [
    {
     "name": "stdout",
     "output_type": "stream",
     "text": [
      "Отсортированный массив: [11, 12, 22, 25, 34, 64, 90]\n"
     ]
    }
   ],
   "source": [
    "#Сортивровка пузырком\n",
    "def bubble_sort(arr):\n",
    "    n = len(arr)\n",
    "\n",
    "    for i in range(n):\n",
    "         for j in range(0, n-i-1):\n",
    "             if arr[j] > arr[j+1]:\n",
    "                 arr[j], arr[j+1]= arr[j+1], arr[j]\n",
    "\n",
    "    return arr\n",
    "\n",
    "#Пример использования\n",
    "arr = [64, 34, 25, 12, 22, 11, 90]\n",
    "sorted_arr = bubble_sort(arr)\n",
    "print(\"Отсортированный массив:\", sorted_arr)\n",
    "                 \n",
    "   "
   ]
  },
  {
   "cell_type": "code",
   "execution_count": null,
   "id": "9a07c411-c591-4078-bbdb-5863c211ad41",
   "metadata": {},
   "outputs": [],
   "source": [
    "Сортировка выбором:\n",
    "Сортировка матрицы выбором в Python - это алгоритм сортировки, который применяется к матрице (двумерному массиву). \n",
    "Он работает путем поочередного нахождения наименьшего элемента в каждой строке и перемещения его на первое место в строке. \n",
    "После этого процесс повторяется для оставшихся элементов в строке."
   ]
  },
  {
   "cell_type": "code",
   "execution_count": 5,
   "id": "6735c987-9c2c-44b4-9179-30cd0c0675ba",
   "metadata": {},
   "outputs": [
    {
     "name": "stdout",
     "output_type": "stream",
     "text": [
      "Отсортированный массив: [11, 12, 22, 25, 64]\n"
     ]
    }
   ],
   "source": [
    "#Сортировка выбором\n",
    "def selection_sort(arr):\n",
    "    n = len(arr)\n",
    "    for i in range(n):\n",
    "        min_index = i\n",
    "        for j in range(i+1, n):\n",
    "            if arr[j] < arr[min_index]:\n",
    "                min_index = j \n",
    "        arr[i], arr[min_index] = arr[min_index], arr[i]\n",
    "\n",
    "# Пример использования\n",
    "arr = [64, 25, 12, 22, 11]\n",
    "selection_sort(arr)\n",
    "print(\"Отсортированный массив:\", arr)"
   ]
  },
  {
   "cell_type": "code",
   "execution_count": null,
   "id": "a3a60816-09cc-47ef-adb3-512e6066410b",
   "metadata": {},
   "outputs": [],
   "source": [
    "Сортировка Шелла:\n",
    "Метод Шелла заключается в том, чтобы сначала сортировать элементы с определенным шагом между ними, а затем постепенно уменьшать шаг. \n",
    "Сортировка выполняется с помощью сортировки вставками на каждом шаге. \n",
    "Когда шаг становится равным 1, массив полностью отсортирован."
   ]
  },
  {
   "cell_type": "code",
   "execution_count": 6,
   "id": "51ce2375-23ea-43e7-bda8-95ee3b487376",
   "metadata": {},
   "outputs": [
    {
     "name": "stdout",
     "output_type": "stream",
     "text": [
      "Отсортированный массив: [2, 3, 12, 34, 54]\n"
     ]
    }
   ],
   "source": [
    "#Сортировка Шелла\n",
    "def shell_sort(arr):\n",
    "    n = len(arr)\n",
    "    gap = n // 2\n",
    "    while gap > 0:\n",
    "        for i in range(gap, n):\n",
    "            temp = arr[i]\n",
    "            j = i\n",
    "            while j >= gap and arr[j - \n",
    "gap] > temp:\n",
    "                 arr[j] = arr[j - gap]\n",
    "                 j -= gap\n",
    "            arr[j] = temp\n",
    "        gap //=2\n",
    "\n",
    "#Пример исползования\n",
    "arr = [12, 34, 54, 2, 3]\n",
    "shell_sort(arr)\n",
    "print(\"Отсортированный массив:\", arr)\n",
    "                \n",
    "     "
   ]
  },
  {
   "cell_type": "code",
   "execution_count": null,
   "id": "35a6ca87-d1f1-476d-afce-5967764055f6",
   "metadata": {},
   "outputs": [],
   "source": [
    "Быстрая сортировка: это эффективный алгоритм сортировки, который использует стратегию \"разделяй и властвуй\". \n",
    "Он работает путем выбора опорного элемента из массива и разделения массива на две подгруппы: одна содержит элементы, меньшие опорного, а другая - элементы, большие опорного. \n",
    "Затем алгоритм рекурсивно применяется к каждой из подгрупп"
   ]
  },
  {
   "cell_type": "code",
   "execution_count": 7,
   "id": "26643107-3607-407c-b29c-1f9dd15f5e46",
   "metadata": {},
   "outputs": [
    {
     "name": "stdout",
     "output_type": "stream",
     "text": [
      "[1, 1, 2, 3, 6, 8, 10]\n"
     ]
    }
   ],
   "source": [
    "#Быстрая сортировка\n",
    "def quick_sort(arr):\n",
    "    if len(arr) <=1:\n",
    "        return arr\n",
    "    else:\n",
    "        pivot = arr[0]\n",
    "        less = [x for x in arr[1:]\n",
    "if x <= pivot]\n",
    "        greater = [x for x in arr[1:\n",
    "] if x > pivot]\n",
    "        return quick_sort(less) + [\n",
    "pivot] + quick_sort(greater)\n",
    "        \n",
    "#Пример использования\n",
    "arr = [3, 6, 8, 10, 1, 2, 1]\n",
    "sorted_arr = quick_sort(arr)\n",
    "print(sorted_arr)"
   ]
  },
  {
   "cell_type": "code",
   "execution_count": null,
   "id": "3c0980d8-b109-488e-8f3a-70f5567805d1",
   "metadata": {},
   "outputs": [],
   "source": [
    "Турнирная сортировка:\n",
    "Турнирная сортировка матрицы в Python - это алгоритм сортировки, который использует структуру данных\n",
    "\"турнирное дерево\" для эффективной сортировки элементов матрицы. "
   ]
  },
  {
   "cell_type": "code",
   "execution_count": 22,
   "id": "e4185cd0-2cf7-4121-a53f-0fde65c0e737",
   "metadata": {},
   "outputs": [
    {
     "name": "stdout",
     "output_type": "stream",
     "text": [
      "[0, 3, 3, 11, 43, 54]\n"
     ]
    }
   ],
   "source": [
    "#Турнирная сортировка\n",
    "def tournament_sort(arr):\n",
    "    tree = [None] * 2 * (len(arr) + len(arr) % 2)\n",
    "    index = len(tree) - len(arr)\n",
    "    tree[index:index + len(arr)] = arr\n",
    "    for i in range(index + len(arr) - 1, 0, -1):\n",
    "        tree[i >> 1] = min(tree[i], tree[i ^ 1]) if tree[i] is not None and tree[i ^ 1] is not None else (tree[i ^ 1] if tree[i] is None else tree[i])\n",
    "    return [tree[1]] + [tree.pop(tree.index(min(filter(None, tree[1:])))) for _ in arr]\n",
    "\n",
    "arr = [54, 43, 3, 11, 0]\n",
    "sorted_arr = tournament_sort(arr)\n",
    "print(sorted_arr)"
   ]
  },
  {
   "cell_type": "code",
   "execution_count": 36,
   "id": "0b82f5ec-ac38-4437-b5ec-03d3be03fe9a",
   "metadata": {},
   "outputs": [
    {
     "name": "stdout",
     "output_type": "stream",
     "text": [
      "Hello, World!\n",
      "Execution time: 0.000993967056274414\n"
     ]
    }
   ],
   "source": [
    "import time \n",
    "\n",
    "start_time = time.time()\n",
    "print(\"Hello, World!\")\n",
    "end_time = time.time()\n",
    "\n",
    "execution_time = end_time - start_time\n",
    "print(f\"Execution time: {execution_time}\")"
   ]
  },
  {
   "cell_type": "code",
   "execution_count": 37,
   "id": "10e52f37-bb97-4c12-9bb0-9e9f389ecdc0",
   "metadata": {},
   "outputs": [
    {
     "name": "stdout",
     "output_type": "stream",
     "text": [
      "Отсортированный массив: [5, 6, 11, 12, 13]\n",
      "Execution time: 0.0009963512420654297\n"
     ]
    }
   ],
   "source": [
    "#Сортировка вставкой\n",
    "import time \n",
    "\n",
    "start_time = time.time()\n",
    "def insertion_sort(arr):\n",
    "     for i in range(1, len(arr)):\n",
    "         key = arr[i]\n",
    "         j = i - 1\n",
    "         while j >= 0 and key < arr[j]:\n",
    "             arr[j + 1] = arr[j]\n",
    "             j -= 1\n",
    "         arr[j + 1] = key\n",
    "\n",
    "             \n",
    "#Пример исползования\n",
    "arr = [12, 11, 13, 5, 6]\n",
    "insertion_sort(arr)\n",
    "print(\"Отсортированный массив:\", arr)\n",
    "end_time = time.time()\n",
    "\n",
    "execution_time = end_time - start_time\n",
    "print(f\"Execution time: {execution_time}\")"
   ]
  },
  {
   "cell_type": "code",
   "execution_count": 38,
   "id": "ffdee76b-5c0a-4383-b76a-514d8114a9d3",
   "metadata": {},
   "outputs": [
    {
     "name": "stdout",
     "output_type": "stream",
     "text": [
      "Отсортированный массив: [11, 12, 22, 25, 34, 64, 90]\n",
      "Execution time: 0.0009963512420654297\n"
     ]
    }
   ],
   "source": [
    "#Сортивровка пузырком\n",
    "import time \n",
    "def bubble_sort(arr):\n",
    "    n = len(arr)\n",
    "\n",
    "    for i in range(n):\n",
    "         for j in range(0, n-i-1):\n",
    "             if arr[j] > arr[j+1]:\n",
    "                 arr[j], arr[j+1]= arr[j+1], arr[j]\n",
    "\n",
    "    return arr\n",
    "\n",
    "#Пример использования\n",
    "arr = [64, 34, 25, 12, 22, 11, 90]\n",
    "sorted_arr = bubble_sort(arr)\n",
    "print(\"Отсортированный массив:\", sorted_arr)\n",
    "\n",
    "execution_time = end_time - start_time\n",
    "print(f\"Execution time: {execution_time}\")"
   ]
  },
  {
   "cell_type": "code",
   "execution_count": 39,
   "id": "4069be06-9f30-4588-8435-e9f6a5595135",
   "metadata": {},
   "outputs": [
    {
     "name": "stdout",
     "output_type": "stream",
     "text": [
      "Отсортированный массив: [11, 12, 22, 25, 64]\n",
      "Execution time: 0.0029976367950439453\n"
     ]
    }
   ],
   "source": [
    "#Сортировка выбором\n",
    "import time \n",
    "\n",
    "start_time = time.time()\n",
    "def selection_sort(arr):\n",
    "    n = len(arr)\n",
    "    for i in range(n):\n",
    "        min_index = i\n",
    "        for j in range(i+1, n):\n",
    "            if arr[j] < arr[min_index]:\n",
    "                min_index = j \n",
    "        arr[i], arr[min_index] = arr[min_index], arr[i]\n",
    "\n",
    "# Пример использования\n",
    "arr = [64, 25, 12, 22, 11]\n",
    "selection_sort(arr)\n",
    "print(\"Отсортированный массив:\", arr)\n",
    "end_time = time.time()\n",
    "\n",
    "execution_time = end_time - start_time\n",
    "print(f\"Execution time: {execution_time}\")"
   ]
  },
  {
   "cell_type": "code",
   "execution_count": 40,
   "id": "1ed978ce-48de-48d3-b1b0-ff63a9c4e45f",
   "metadata": {},
   "outputs": [
    {
     "name": "stdout",
     "output_type": "stream",
     "text": [
      "Отсортированный массив: [2, 3, 12, 34, 54]\n",
      "Execution time: 0.0019989013671875\n"
     ]
    }
   ],
   "source": [
    "#Сортировка Шелла\n",
    "import time \n",
    "\n",
    "start_time = time.time()\n",
    "def shell_sort(arr):\n",
    "    n = len(arr)\n",
    "    gap = n // 2\n",
    "    while gap > 0:\n",
    "        for i in range(gap, n):\n",
    "            temp = arr[i]\n",
    "            j = i\n",
    "            while j >= gap and arr[j - \n",
    "gap] > temp:\n",
    "                 arr[j] = arr[j - gap]\n",
    "                 j -= gap\n",
    "            arr[j] = temp\n",
    "        gap //=2\n",
    "\n",
    "#Пример исползования\n",
    "arr = [12, 34, 54, 2, 3]\n",
    "shell_sort(arr)\n",
    "print(\"Отсортированный массив:\", arr)\n",
    "\n",
    "end_time = time.time()\n",
    "\n",
    "execution_time = end_time - start_time\n",
    "print(f\"Execution time: {execution_time}\")"
   ]
  },
  {
   "cell_type": "code",
   "execution_count": 41,
   "id": "2d76be45-6360-42af-8790-e9b672da472f",
   "metadata": {},
   "outputs": [
    {
     "name": "stdout",
     "output_type": "stream",
     "text": [
      "[1, 1, 2, 3, 6, 8, 10]\n",
      "Execution time: 0.001998424530029297\n"
     ]
    }
   ],
   "source": [
    "#Быстрая сортировка\n",
    "import time \n",
    "\n",
    "start_time = time.time()\n",
    "def quick_sort(arr):\n",
    "    if len(arr) <=1:\n",
    "        return arr\n",
    "    else:\n",
    "        pivot = arr[0]\n",
    "        less = [x for x in arr[1:]\n",
    "if x <= pivot]\n",
    "        greater = [x for x in arr[1:\n",
    "] if x > pivot]\n",
    "        return quick_sort(less) + [\n",
    "pivot] + quick_sort(greater)\n",
    "        \n",
    "#Пример использования\n",
    "arr = [3, 6, 8, 10, 1, 2, 1]\n",
    "sorted_arr = quick_sort(arr)\n",
    "print(sorted_arr)\n",
    "end_time = time.time()\n",
    "\n",
    "execution_time = end_time - start_time\n",
    "print(f\"Execution time: {execution_time}\")"
   ]
  },
  {
   "cell_type": "code",
   "execution_count": 42,
   "id": "10121589-ee74-43bc-b3d8-cf070e4bb622",
   "metadata": {},
   "outputs": [
    {
     "name": "stdout",
     "output_type": "stream",
     "text": [
      "[103, 148, 149, 41]\n",
      "[124, 14, 107, 174]\n",
      "[94, 174, 71, 76]\n",
      "[189, 18, 84, 193]\n",
      "Execution time: 0.003990888595581055\n"
     ]
    }
   ],
   "source": [
    "\n",
    "import time \n",
    "\n",
    "start_time = time.time()\n",
    "import random\n",
    "\n",
    "def random_matrix(m=3, n=3, min_limit=1,\n",
    "max_limit=10):\n",
    "    return [[random.randint(min_limit,\n",
    "max_limit) for _ in range(n)] for _ in\n",
    "range(m)]\n",
    "\n",
    "#Пример использования\n",
    "matrix = random_matrix(4, 4, 0, 200)\n",
    "for row in matrix:\n",
    "    print(row)\n",
    "end_time = time.time()\n",
    "\n",
    "execution_time = end_time - start_time\n",
    "print(f\"Execution time: {execution_time}\")"
   ]
  },
  {
   "cell_type": "code",
   "execution_count": 23,
   "id": "5a601ee9-3c13-420f-8df4-f13155184273",
   "metadata": {},
   "outputs": [
    {
     "name": "stdout",
     "output_type": "stream",
     "text": [
      "[0, 3, 3, 11, 43, 54]\n",
      "Execution time: 0.001993894577026367\n"
     ]
    }
   ],
   "source": [
    "#Турнирная сортировка\n",
    "import time \n",
    "\n",
    "start_time = time.time()\n",
    "def tournament_sort(arr):\n",
    "    tree = [None] * 2 * (len(arr) + len(arr) % 2)\n",
    "    index = len(tree) - len(arr)\n",
    "    tree[index:index + len(arr)] = arr\n",
    "    for i in range(index + len(arr) - 1, 0, -1):\n",
    "        tree[i >> 1] = min(tree[i], tree[i ^ 1]) if tree[i] is not None and tree[i ^ 1] is not None else (tree[i ^ 1] if tree[i] is None else tree[i])\n",
    "    return [tree[1]] + [tree.pop(tree.index(min(filter(None, tree[1:])))) for _ in arr]\n",
    "\n",
    "arr = [54, 43, 3, 11, 0]\n",
    "sorted_arr = tournament_sort(arr)\n",
    "print(sorted_arr)\n",
    "end_time = time.time()\n",
    "\n",
    "execution_time = end_time - start_time\n",
    "print(f\"Execution time: {execution_time}\")"
   ]
  },
  {
   "cell_type": "code",
   "execution_count": null,
   "id": "0699c102-5c37-4fed-9088-159b6c56426f",
   "metadata": {},
   "outputs": [],
   "source": []
  }
 ],
 "metadata": {
  "kernelspec": {
   "display_name": "Python 3 (ipykernel)",
   "language": "python",
   "name": "python3"
  },
  "language_info": {
   "codemirror_mode": {
    "name": "ipython",
    "version": 3
   },
   "file_extension": ".py",
   "mimetype": "text/x-python",
   "name": "python",
   "nbconvert_exporter": "python",
   "pygments_lexer": "ipython3",
   "version": "3.11.7"
  }
 },
 "nbformat": 4,
 "nbformat_minor": 5
}
